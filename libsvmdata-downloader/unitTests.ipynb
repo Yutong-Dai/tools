{
 "cells": [
  {
   "cell_type": "code",
   "execution_count": 1,
   "id": "stopped-endorsement",
   "metadata": {
    "execution": {
     "iopub.execute_input": "2021-07-30T05:26:51.262396Z",
     "iopub.status.busy": "2021-07-30T05:26:51.262052Z",
     "iopub.status.idle": "2021-07-30T05:26:52.830081Z",
     "shell.execute_reply": "2021-07-30T05:26:52.828619Z",
     "shell.execute_reply.started": "2021-07-30T05:26:51.262318Z"
    }
   },
   "outputs": [
    {
     "name": "stdout",
     "output_type": "stream",
     "text": [
      "docs/LibsvmDataset.html\n"
     ]
    }
   ],
   "source": [
    "!pdoc --html --output-dir docs LibsvmDataset.py --force"
   ]
  },
  {
   "cell_type": "code",
   "execution_count": 1,
   "id": "massive-academy",
   "metadata": {
    "execution": {
     "iopub.execute_input": "2021-07-30T05:54:07.049241Z",
     "iopub.status.busy": "2021-07-30T05:54:07.048905Z",
     "iopub.status.idle": "2021-07-30T05:54:07.054157Z",
     "shell.execute_reply": "2021-07-30T05:54:07.052668Z",
     "shell.execute_reply.started": "2021-07-30T05:54:07.049151Z"
    }
   },
   "outputs": [],
   "source": [
    "# import os\n",
    "# import urllib.request \n",
    "# import progressbar\n",
    "# import sklearn.datasets\n",
    "# import numpy\n",
    "# print(urllib.request.__version__)\n",
    "# print(progressbar.__version__)\n",
    "# print(sklearn.__version__)\n",
    "# print(numpy.__version__)"
   ]
  },
  {
   "cell_type": "code",
   "execution_count": 2,
   "id": "pressing-surgeon",
   "metadata": {
    "execution": {
     "iopub.execute_input": "2021-07-30T05:54:07.463203Z",
     "iopub.status.busy": "2021-07-30T05:54:07.462740Z",
     "iopub.status.idle": "2021-07-30T05:54:08.900518Z",
     "shell.execute_reply": "2021-07-30T05:54:08.899594Z",
     "shell.execute_reply.started": "2021-07-30T05:54:07.463149Z"
    }
   },
   "outputs": [],
   "source": [
    "from LibsvmDataset import *"
   ]
  },
  {
   "cell_type": "code",
   "execution_count": 3,
   "id": "organic-ranking",
   "metadata": {
    "execution": {
     "iopub.execute_input": "2021-07-30T05:54:09.498976Z",
     "iopub.status.busy": "2021-07-30T05:54:09.498738Z",
     "iopub.status.idle": "2021-07-30T05:54:31.438595Z",
     "shell.execute_reply": "2021-07-30T05:54:31.437504Z",
     "shell.execute_reply.started": "2021-07-30T05:54:09.498950Z"
    }
   },
   "outputs": [
    {
     "name": "stdout",
     "output_type": "stream",
     "text": [
      "Case 0: task is not available\n",
      "======================\n",
      "You choose to use the task+dataset option.\n",
      "\u001b[93mWarning:Your input taks is [multi-class], which currently is not supported.\n",
      "However, you can provide an url pointing to the desired dataset to download it.\u001b[0m\n",
      "\u001b[93mFail to generate download url, please check your inputs.\u001b[0m\n",
      "Case 1: dataset is not avaiable\n",
      "======================\n",
      "You choose to use the task+dataset option.\n",
      "\u001b[91mError occurs!\n",
      "  1.Either the input dataset:[a0a] is not intended for the task:[binary].\n",
      "  2.Or the input dataset:[a0a] is not in the built-in database.\n",
      "If you are sure the latter case happens, you can provide an url pointing to the desired dataset.\u001b[0m\n",
      "\u001b[93mFail to generate download url, please check your inputs.\u001b[0m\n",
      "Case 2: dataset doesn't match the task\n",
      "======================\n",
      "You choose to use the task+dataset option.\n",
      "\u001b[91mError occurs!\n",
      "  1.Either the input dataset:[a1a] is not intended for the task:[regression].\n",
      "  2.Or the input dataset:[a1a] is not in the built-in database.\n",
      "If you are sure the latter case happens, you can provide an url pointing to the desired dataset.\u001b[0m\n",
      "\u001b[93mFail to generate download url, please check your inputs.\u001b[0m\n",
      "Case 3: incorrect inputs combination\n",
      "======================\n",
      "You choose to use the url option.\n",
      "\u001b[91mThe input url www.google.com is wrong.\u001b[0m\n",
      "\u001b[93mFail to generate download url, please check your inputs.\u001b[0m\n",
      "Case 4: correct task+dataset\n",
      "======================\n",
      "You choose to use the task+dataset option.\n",
      "Parsed task: [binary] | Parsed dataset: [a1a]\n",
      "Parsed download_url:[https://www.csie.ntu.edu.tw/~cjlin/libsvmtools/datasets/binary/a1a]\n"
     ]
    },
    {
     "name": "stderr",
     "output_type": "stream",
     "text": [
      "100% (114818 of 114818) |################| Elapsed Time: 0:00:00 Time:  0:00:00\n"
     ]
    },
    {
     "name": "stdout",
     "output_type": "stream",
     "text": [
      "\u001b[92mdataset [a1a] is downloaded at [./raw/binary].\u001b[0m\n",
      "Original y-label range: { -1.0, 1.0 } -> New y-label range: { -1.0, 1.0 }\n",
      "Perform normalization:feat-11\n",
      "\u001b[92mSuccess: File saved at ./clean/binary/a1a!\u001b[0m\n",
      "-*-*-*-*-*-*-*-*-*-*-*-*-*-*-*-*-*-*-*-*-*-*-*-*-*-*-*-*-*-*\n",
      "Case 5: get dataset for task: binary| dataset: a1a.t\n",
      "======================\n",
      "You choose to use the url option.\n",
      "Parsed task: [binary] | Parsed dataset: [a1a.t]\n",
      "Parsed download_url:[https://www.csie.ntu.edu.tw/~cjlin/libsvmtools/datasets/binary/a1a.t]\n"
     ]
    },
    {
     "name": "stderr",
     "output_type": "stream",
     "text": [
      "100% (2215057 of 2215057) |##############| Elapsed Time: 0:00:06 Time:  0:00:06\n"
     ]
    },
    {
     "name": "stdout",
     "output_type": "stream",
     "text": [
      "\u001b[92mdataset [a1a.t] is downloaded at [./raw/binary].\u001b[0m\n",
      "Original y-label range: { -1.0, 1.0 } -> New y-label range: { -1.0, 1.0 }\n",
      "Perform normalization:feat-11\n",
      "\u001b[92mSuccess: File saved at ./clean/binary/a1a.t!\u001b[0m\n",
      "-*-*-*-*-*-*-*-*-*-*-*-*-*-*-*-*-*-*-*-*-*-*-*-*-*-*-*-*-*-*\n",
      "Case 6: get dataset for task: multi-class\n",
      "======================\n",
      "You choose to use the url option.\n",
      "Parsed task: [multiclass] | Parsed dataset: [aloi.bz2]\n",
      "Parsed download_url:[https://www.csie.ntu.edu.tw/~cjlin/libsvmtools/datasets/multiclass/aloi.bz2]\n"
     ]
    },
    {
     "name": "stderr",
     "output_type": "stream",
     "text": [
      "100% (1163458 of 1163458) |##############| Elapsed Time: 0:00:03 Time:  0:00:03\n"
     ]
    },
    {
     "name": "stdout",
     "output_type": "stream",
     "text": [
      "\u001b[92mdataset [aloi.bz2] is downloaded at [./raw/multiclass].\u001b[0m\n",
      "\u001b[93mThe clean rule for dataset:aloi.bz2 with task:multiclass is not defined. Hence, no cleaning is performed.\u001b[0m\n",
      "Case 7: correct task+dataset with force_download without force_clean\n",
      "======================\n",
      "You choose to use the task+dataset option.\n",
      "Parsed task: [binary] | Parsed dataset: [a1a]\n",
      "Parsed download_url:[https://www.csie.ntu.edu.tw/~cjlin/libsvmtools/datasets/binary/a1a]\n"
     ]
    },
    {
     "name": "stderr",
     "output_type": "stream",
     "text": [
      "100% (114818 of 114818) |################| Elapsed Time: 0:00:01 Time:  0:00:01\n"
     ]
    },
    {
     "name": "stdout",
     "output_type": "stream",
     "text": [
      "\u001b[92mdataset [a1a] is downloaded at [./raw/binary].\u001b[0m\n",
      "\u001b[93mThe cleaned dataset [a1a] already exists in [./clean/binary]!\u001b[0m\n",
      "Case 8: correct task+dataset with force_download with force_clean\n",
      "======================\n",
      "You choose to use the task+dataset option.\n",
      "Parsed task: [binary] | Parsed dataset: [a1a]\n",
      "Parsed download_url:[https://www.csie.ntu.edu.tw/~cjlin/libsvmtools/datasets/binary/a1a]\n"
     ]
    },
    {
     "name": "stderr",
     "output_type": "stream",
     "text": [
      "100% (114818 of 114818) |################| Elapsed Time: 0:00:01 Time:  0:00:01\n"
     ]
    },
    {
     "name": "stdout",
     "output_type": "stream",
     "text": [
      "\u001b[92mdataset [a1a] is downloaded at [./raw/binary].\u001b[0m\n",
      "Original y-label range: { -1.0, 1.0 } -> New y-label range: { -1.0, 1.0 }\n",
      "Perform normalization:feat-11\n",
      "\u001b[92mSuccess: File saved at ./clean/binary/a1a!\u001b[0m\n",
      "-*-*-*-*-*-*-*-*-*-*-*-*-*-*-*-*-*-*-*-*-*-*-*-*-*-*-*-*-*-*\n"
     ]
    }
   ],
   "source": [
    "# unit tests\n",
    "libclass = LibsvmDataset()\n",
    "# libclass.getAvailable()\n",
    "print(\"Case 0: task is not available\\n======================\")\n",
    "libclass.getAndClean(\"multi-class\", \"aloi.bz2\")\n",
    "print(\"Case 1: dataset is not avaiable\\n======================\")\n",
    "libclass.getAndClean(\"binary\", \"a0a\")\n",
    "print(\"Case 2: dataset doesn't match the task\\n======================\")\n",
    "libclass.getAndClean(\"regression\", \"a1a\")\n",
    "print(\"Case 3: incorrect inputs combination\\n======================\")\n",
    "libclass.getAndClean(task=\"binary\", download_url=\"www.google.com\")\n",
    "print(\"Case 4: correct task+dataset\\n======================\")\n",
    "libclass.getAndClean(\"binary\", \"a1a\")\n",
    "print(\"Case 5: get dataset for task: binary| dataset: a1a.t\\n======================\")\n",
    "libclass.getAndClean(download_url=\"https://www.csie.ntu.edu.tw/~cjlin/libsvmtools/datasets/binary/a1a.t\")\n",
    "print(\"Case 6: get dataset for task: multi-class\\n======================\")\n",
    "libclass.getAndClean(download_url=\"https://www.csie.ntu.edu.tw/~cjlin/libsvmtools/datasets/multiclass/aloi.bz2\")\n",
    "print(\"Case 7: correct task+dataset with force_download without force_clean\\n======================\")\n",
    "libclass.getAndClean(task=\"binary\", dataset=\"a1a\", force_download=True, force_clean=False)\n",
    "print(\"Case 8: correct task+dataset with force_download with force_clean\\n======================\")\n",
    "libclass.getAndClean(task=\"binary\", dataset=\"a1a\", force_download=True, force_clean=True)"
   ]
  },
  {
   "cell_type": "code",
   "execution_count": 1,
   "id": "placed-wallet",
   "metadata": {
    "execution": {
     "iopub.execute_input": "2021-07-30T05:47:38.133022Z",
     "iopub.status.busy": "2021-07-30T05:47:38.132626Z",
     "iopub.status.idle": "2021-07-30T05:47:38.278318Z",
     "shell.execute_reply": "2021-07-30T05:47:38.277050Z",
     "shell.execute_reply.started": "2021-07-30T05:47:38.132923Z"
    }
   },
   "outputs": [],
   "source": [
    "rm -rf ./raw ./clean"
   ]
  },
  {
   "cell_type": "code",
   "execution_count": 16,
   "id": "relevant-wheat",
   "metadata": {
    "execution": {
     "iopub.execute_input": "2021-07-30T02:19:55.742358Z",
     "iopub.status.busy": "2021-07-30T02:19:55.742086Z",
     "iopub.status.idle": "2021-07-30T02:19:57.645494Z",
     "shell.execute_reply": "2021-07-30T02:19:57.644265Z",
     "shell.execute_reply.started": "2021-07-30T02:19:55.742328Z"
    }
   },
   "outputs": [
    {
     "name": "stdout",
     "output_type": "stream",
     "text": [
      "You choose to use the task+dataset option.\n",
      "Parsed task: [binary] | Parsed dataset: [a1a]\n",
      "Parsed download_url:[https://www.csie.ntu.edu.tw/~cjlin/libsvmtools/datasets/binary/a1a]\n",
      "dataset [a1a] is downloaded at [./raw].\n"
     ]
    }
   ],
   "source": [
    "# libclass = LibsvmDataset()\n",
    "# libclass.getAndClean(\"binary\", \"a1a\", force_download=True)\n",
    "# libclass._parseInputs(\"binary\", \"a1a\", None)\n",
    "# subprocess.run(['wget', '-i', libclass.download_url, '-P', libclass.download_dir], capture_output=True)"
   ]
  },
  {
   "cell_type": "code",
   "execution_count": 30,
   "id": "anticipated-ecuador",
   "metadata": {
    "execution": {
     "iopub.execute_input": "2021-07-30T02:36:05.185005Z",
     "iopub.status.busy": "2021-07-30T02:36:05.184774Z",
     "iopub.status.idle": "2021-07-30T02:36:10.255207Z",
     "shell.execute_reply": "2021-07-30T02:36:10.254321Z",
     "shell.execute_reply.started": "2021-07-30T02:36:05.184979Z"
    }
   },
   "outputs": [],
   "source": [
    "# import requests\n",
    "# r = requests.get(libclass.download_url, allow_redirects=True)\n",
    "# with open(f'{libclass.download_dir}/{libclass.dataset}', 'wb') as f:\n",
    "#     f.write(r.content)"
   ]
  },
  {
   "cell_type": "code",
   "execution_count": null,
   "id": "outstanding-rally",
   "metadata": {},
   "outputs": [],
   "source": []
  }
 ],
 "metadata": {
  "kernelspec": {
   "display_name": "Python 3",
   "language": "python",
   "name": "python3"
  },
  "language_info": {
   "codemirror_mode": {
    "name": "ipython",
    "version": 3
   },
   "file_extension": ".py",
   "mimetype": "text/x-python",
   "name": "python",
   "nbconvert_exporter": "python",
   "pygments_lexer": "ipython3",
   "version": "3.7.6"
  }
 },
 "nbformat": 4,
 "nbformat_minor": 5
}
