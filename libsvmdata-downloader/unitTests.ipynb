{
 "cells": [
  {
   "cell_type": "code",
   "execution_count": 7,
   "id": "compound-knowing",
   "metadata": {
    "execution": {
     "iopub.execute_input": "2021-07-30T20:36:05.361307Z",
     "iopub.status.busy": "2021-07-30T20:36:05.360982Z",
     "iopub.status.idle": "2021-07-30T20:36:06.563711Z",
     "shell.execute_reply": "2021-07-30T20:36:06.562487Z",
     "shell.execute_reply.started": "2021-07-30T20:36:05.361247Z"
    }
   },
   "outputs": [
    {
     "name": "stdout",
     "output_type": "stream",
     "text": [
      "docs/LibsvmDataset.html\n"
     ]
    }
   ],
   "source": [
    "!pdoc --html --output-dir docs LibsvmDataset.py --force"
   ]
  },
  {
   "cell_type": "code",
   "execution_count": 1,
   "id": "bright-seating",
   "metadata": {
    "execution": {
     "iopub.execute_input": "2021-07-30T05:54:07.049241Z",
     "iopub.status.busy": "2021-07-30T05:54:07.048905Z",
     "iopub.status.idle": "2021-07-30T05:54:07.054157Z",
     "shell.execute_reply": "2021-07-30T05:54:07.052668Z",
     "shell.execute_reply.started": "2021-07-30T05:54:07.049151Z"
    }
   },
   "outputs": [],
   "source": [
    "# import progressbar\n",
    "# import sklearn\n",
    "# import numpy\n",
    "# print(progressbar.__version__)\n",
    "# print(sklearn.__version__)\n",
    "# print(numpy.__version__)"
   ]
  },
  {
   "cell_type": "code",
   "execution_count": 2,
   "id": "lasting-argentina",
   "metadata": {
    "execution": {
     "iopub.execute_input": "2021-07-30T05:54:07.463203Z",
     "iopub.status.busy": "2021-07-30T05:54:07.462740Z",
     "iopub.status.idle": "2021-07-30T05:54:08.900518Z",
     "shell.execute_reply": "2021-07-30T05:54:08.899594Z",
     "shell.execute_reply.started": "2021-07-30T05:54:07.463149Z"
    }
   },
   "outputs": [],
   "source": [
    "from LibsvmDataset import *"
   ]
  },
  {
   "cell_type": "code",
   "execution_count": 3,
   "id": "about-people",
   "metadata": {
    "execution": {
     "iopub.execute_input": "2021-07-30T05:54:09.498976Z",
     "iopub.status.busy": "2021-07-30T05:54:09.498738Z",
     "iopub.status.idle": "2021-07-30T05:54:31.438595Z",
     "shell.execute_reply": "2021-07-30T05:54:31.437504Z",
     "shell.execute_reply.started": "2021-07-30T05:54:09.498950Z"
    }
   },
   "outputs": [
    {
     "name": "stdout",
     "output_type": "stream",
     "text": [
      "Case 0: task is not available\n",
      "======================\n",
      "You choose to use the task+dataset option.\n",
      "\u001b[93mWarning:Your input taks is [multi-class], which currently is not supported.\n",
      "However, you can provide an url pointing to the desired dataset to download it.\u001b[0m\n",
      "\u001b[93mFail to generate download url, please check your inputs.\u001b[0m\n",
      "Case 1: dataset is not avaiable\n",
      "======================\n",
      "You choose to use the task+dataset option.\n",
      "\u001b[91mError occurs!\n",
      "  1.Either the input dataset:[a0a] is not intended for the task:[binary].\n",
      "  2.Or the input dataset:[a0a] is not in the built-in database.\n",
      "If you are sure the latter case happens, you can provide an url pointing to the desired dataset.\u001b[0m\n",
      "\u001b[93mFail to generate download url, please check your inputs.\u001b[0m\n",
      "Case 2: dataset doesn't match the task\n",
      "======================\n",
      "You choose to use the task+dataset option.\n",
      "\u001b[91mError occurs!\n",
      "  1.Either the input dataset:[a1a] is not intended for the task:[regression].\n",
      "  2.Or the input dataset:[a1a] is not in the built-in database.\n",
      "If you are sure the latter case happens, you can provide an url pointing to the desired dataset.\u001b[0m\n",
      "\u001b[93mFail to generate download url, please check your inputs.\u001b[0m\n",
      "Case 3: incorrect inputs combination\n",
      "======================\n",
      "You choose to use the url option.\n",
      "\u001b[91mThe input url www.google.com is wrong.\u001b[0m\n",
      "\u001b[93mFail to generate download url, please check your inputs.\u001b[0m\n",
      "Case 4: correct task+dataset\n",
      "======================\n",
      "You choose to use the task+dataset option.\n",
      "Parsed task: [binary] | Parsed dataset: [a1a]\n",
      "Parsed download_url:[https://www.csie.ntu.edu.tw/~cjlin/libsvmtools/datasets/binary/a1a]\n"
     ]
    },
    {
     "name": "stderr",
     "output_type": "stream",
     "text": [
      "100% (114818 of 114818) |################| Elapsed Time: 0:00:00 Time:  0:00:00\n"
     ]
    },
    {
     "name": "stdout",
     "output_type": "stream",
     "text": [
      "\u001b[92mdataset [a1a] is downloaded at [./raw/binary].\u001b[0m\n",
      "Original y-label range: { -1.0, 1.0 } -> New y-label range: { -1.0, 1.0 }\n",
      "Perform normalization:feat-11\n",
      "\u001b[92mSuccess: File saved at ./clean/binary/a1a!\u001b[0m\n",
      "-*-*-*-*-*-*-*-*-*-*-*-*-*-*-*-*-*-*-*-*-*-*-*-*-*-*-*-*-*-*\n",
      "Case 5: get dataset for task: binary| dataset: a1a.t\n",
      "======================\n",
      "You choose to use the url option.\n",
      "Parsed task: [binary] | Parsed dataset: [a1a.t]\n",
      "Parsed download_url:[https://www.csie.ntu.edu.tw/~cjlin/libsvmtools/datasets/binary/a1a.t]\n"
     ]
    },
    {
     "name": "stderr",
     "output_type": "stream",
     "text": [
      "100% (2215057 of 2215057) |##############| Elapsed Time: 0:00:06 Time:  0:00:06\n"
     ]
    },
    {
     "name": "stdout",
     "output_type": "stream",
     "text": [
      "\u001b[92mdataset [a1a.t] is downloaded at [./raw/binary].\u001b[0m\n",
      "Original y-label range: { -1.0, 1.0 } -> New y-label range: { -1.0, 1.0 }\n",
      "Perform normalization:feat-11\n",
      "\u001b[92mSuccess: File saved at ./clean/binary/a1a.t!\u001b[0m\n",
      "-*-*-*-*-*-*-*-*-*-*-*-*-*-*-*-*-*-*-*-*-*-*-*-*-*-*-*-*-*-*\n",
      "Case 6: get dataset for task: multi-class\n",
      "======================\n",
      "You choose to use the url option.\n",
      "Parsed task: [multiclass] | Parsed dataset: [aloi.bz2]\n",
      "Parsed download_url:[https://www.csie.ntu.edu.tw/~cjlin/libsvmtools/datasets/multiclass/aloi.bz2]\n"
     ]
    },
    {
     "name": "stderr",
     "output_type": "stream",
     "text": [
      "100% (1163458 of 1163458) |##############| Elapsed Time: 0:00:03 Time:  0:00:03\n"
     ]
    },
    {
     "name": "stdout",
     "output_type": "stream",
     "text": [
      "\u001b[92mdataset [aloi.bz2] is downloaded at [./raw/multiclass].\u001b[0m\n",
      "\u001b[93mThe clean rule for dataset:aloi.bz2 with task:multiclass is not defined. Hence, no cleaning is performed.\u001b[0m\n",
      "Case 7: correct task+dataset with force_download without force_clean\n",
      "======================\n",
      "You choose to use the task+dataset option.\n",
      "Parsed task: [binary] | Parsed dataset: [a1a]\n",
      "Parsed download_url:[https://www.csie.ntu.edu.tw/~cjlin/libsvmtools/datasets/binary/a1a]\n"
     ]
    },
    {
     "name": "stderr",
     "output_type": "stream",
     "text": [
      "100% (114818 of 114818) |################| Elapsed Time: 0:00:01 Time:  0:00:01\n"
     ]
    },
    {
     "name": "stdout",
     "output_type": "stream",
     "text": [
      "\u001b[92mdataset [a1a] is downloaded at [./raw/binary].\u001b[0m\n",
      "\u001b[93mThe cleaned dataset [a1a] already exists in [./clean/binary]!\u001b[0m\n",
      "Case 8: correct task+dataset with force_download with force_clean\n",
      "======================\n",
      "You choose to use the task+dataset option.\n",
      "Parsed task: [binary] | Parsed dataset: [a1a]\n",
      "Parsed download_url:[https://www.csie.ntu.edu.tw/~cjlin/libsvmtools/datasets/binary/a1a]\n"
     ]
    },
    {
     "name": "stderr",
     "output_type": "stream",
     "text": [
      "100% (114818 of 114818) |################| Elapsed Time: 0:00:01 Time:  0:00:01\n"
     ]
    },
    {
     "name": "stdout",
     "output_type": "stream",
     "text": [
      "\u001b[92mdataset [a1a] is downloaded at [./raw/binary].\u001b[0m\n",
      "Original y-label range: { -1.0, 1.0 } -> New y-label range: { -1.0, 1.0 }\n",
      "Perform normalization:feat-11\n",
      "\u001b[92mSuccess: File saved at ./clean/binary/a1a!\u001b[0m\n",
      "-*-*-*-*-*-*-*-*-*-*-*-*-*-*-*-*-*-*-*-*-*-*-*-*-*-*-*-*-*-*\n"
     ]
    }
   ],
   "source": [
    "# unit tests\n",
    "libclass = LibsvmDataset()\n",
    "# libclass.getAvailable()\n",
    "print(\"Case 0: task is not available\\n======================\")\n",
    "libclass.getAndClean(\"multi-class\", \"aloi.bz2\")\n",
    "print(\"Case 1: dataset is not avaiable\\n======================\")\n",
    "libclass.getAndClean(\"binary\", \"a0a\")\n",
    "print(\"Case 2: dataset doesn't match the task\\n======================\")\n",
    "libclass.getAndClean(\"regression\", \"a1a\")\n",
    "print(\"Case 3: incorrect inputs combination\\n======================\")\n",
    "libclass.getAndClean(task=\"binary\", download_url=\"www.google.com\")\n",
    "print(\"Case 4: correct task+dataset\\n======================\")\n",
    "libclass.getAndClean(\"binary\", \"a1a\")\n",
    "print(\"Case 5: get dataset for task: binary| dataset: a1a.t\\n======================\")\n",
    "libclass.getAndClean(download_url=\"https://www.csie.ntu.edu.tw/~cjlin/libsvmtools/datasets/binary/a1a.t\")\n",
    "print(\"Case 6: get dataset for task: multi-class\\n======================\")\n",
    "libclass.getAndClean(download_url=\"https://www.csie.ntu.edu.tw/~cjlin/libsvmtools/datasets/multiclass/aloi.bz2\")\n",
    "print(\"Case 7: correct task+dataset with force_download without force_clean\\n======================\")\n",
    "libclass.getAndClean(task=\"binary\", dataset=\"a1a\", force_download=True, force_clean=False)\n",
    "print(\"Case 8: correct task+dataset with force_download with force_clean\\n======================\")\n",
    "libclass.getAndClean(task=\"binary\", dataset=\"a1a\", force_download=True, force_clean=True)"
   ]
  },
  {
   "cell_type": "code",
   "execution_count": 1,
   "id": "active-resistance",
   "metadata": {
    "execution": {
     "iopub.execute_input": "2021-07-30T20:29:06.052129Z",
     "iopub.status.busy": "2021-07-30T20:29:06.051796Z",
     "iopub.status.idle": "2021-07-30T20:29:06.189034Z",
     "shell.execute_reply": "2021-07-30T20:29:06.187791Z",
     "shell.execute_reply.started": "2021-07-30T20:29:06.052043Z"
    }
   },
   "outputs": [],
   "source": [
    "rm -rf ./raw ./clean"
   ]
  },
  {
   "cell_type": "code",
   "execution_count": 2,
   "id": "constant-classic",
   "metadata": {
    "execution": {
     "iopub.execute_input": "2021-07-30T20:29:11.974297Z",
     "iopub.status.busy": "2021-07-30T20:29:11.973976Z",
     "iopub.status.idle": "2021-07-30T20:29:19.300308Z",
     "shell.execute_reply": "2021-07-30T20:29:19.299349Z",
     "shell.execute_reply.started": "2021-07-30T20:29:11.974260Z"
    }
   },
   "outputs": [
    {
     "name": "stdout",
     "output_type": "stream",
     "text": [
      "Parsed 2 datasets from ./libsvm_regression.txt.\n"
     ]
    },
    {
     "name": "stderr",
     "output_type": "stream",
     "text": [
      "100% (258705 of 258705) |################| Elapsed Time: 0:00:01 Time:  0:00:01\n"
     ]
    },
    {
     "name": "stdout",
     "output_type": "stream",
     "text": [
      "\u001b[92mdataset [abalone] is downloaded at [./raw/regression].\u001b[0m\n",
      "Perform normalization:feat-11\n",
      "\u001b[92mSuccess: File saved at [./clean/regression]!\u001b[0m\n",
      "-*-*-*-*-*-*-*-*-*-*-*-*-*-*-*-*-*-*-*-*-*-*-*-*-*-*-*-*-*-*\n"
     ]
    },
    {
     "name": "stderr",
     "output_type": "stream",
     "text": [
      "100% (28223 of 28223) |##################| Elapsed Time: 0:00:00 Time:  0:00:00\n"
     ]
    },
    {
     "name": "stdout",
     "output_type": "stream",
     "text": [
      "\u001b[92mdataset [bodyfat] is downloaded at [./raw/regression].\u001b[0m\n",
      "Perform normalization:feat-11\n",
      "\u001b[92mSuccess: File saved at [./clean/regression]!\u001b[0m\n",
      "-*-*-*-*-*-*-*-*-*-*-*-*-*-*-*-*-*-*-*-*-*-*-*-*-*-*-*-*-*-*\n",
      "Summary:\n",
      "\u001b[92mPlan to download: [2] datasets| Successfully download: [2] datasets | Successfully clean: [2] datasets.\u001b[0m\n"
     ]
    }
   ],
   "source": [
    "from LibsvmDataset import *\n",
    "libclass = LibsvmDataset()\n",
    "file_path = './libsvm_regression.txt'\n",
    "libclass.getAndCleanFromFile(file_path,\n",
    "                             task='regression', \n",
    "                             binary_lable='{-1,1}', \n",
    "                             normalization='feat-11',\n",
    "                             force_download=False, \n",
    "                             force_clean=False, \n",
    "                             clean_verbose=False)"
   ]
  },
  {
   "cell_type": "code",
   "execution_count": 4,
   "id": "colored-sierra",
   "metadata": {
    "execution": {
     "iopub.execute_input": "2021-07-30T20:29:57.371993Z",
     "iopub.status.busy": "2021-07-30T20:29:57.371673Z",
     "iopub.status.idle": "2021-07-30T20:32:30.745925Z",
     "shell.execute_reply": "2021-07-30T20:32:30.744981Z",
     "shell.execute_reply.started": "2021-07-30T20:29:57.371953Z"
    }
   },
   "outputs": [
    {
     "name": "stdout",
     "output_type": "stream",
     "text": [
      "Parsed 21 datasets from ./libsvm_binary_small.txt.\n"
     ]
    },
    {
     "name": "stderr",
     "output_type": "stream",
     "text": [
      "100% (2329875 of 2329875) |##############| Elapsed Time: 0:00:05 Time:  0:00:05\n"
     ]
    },
    {
     "name": "stdout",
     "output_type": "stream",
     "text": [
      "\u001b[92mdataset [a9a] is downloaded at [./raw/binary].\u001b[0m\n",
      "Original y-label range: { -1.0, 1.0 } -> New y-label range: { -1.0, 1.0 }\n",
      "Perform normalization:feat-11\n",
      "\u001b[92mSuccess: File saved at [./clean/binary]!\u001b[0m\n",
      "-*-*-*-*-*-*-*-*-*-*-*-*-*-*-*-*-*-*-*-*-*-*-*-*-*-*-*-*-*-*\n"
     ]
    },
    {
     "name": "stderr",
     "output_type": "stream",
     "text": [
      "100% (115308 of 115308) |################| Elapsed Time: 0:00:00 Time:  0:00:00\n"
     ]
    },
    {
     "name": "stdout",
     "output_type": "stream",
     "text": [
      "\u001b[92mdataset [australian] is downloaded at [./raw/binary].\u001b[0m\n",
      "Original y-label range: { -1.0, 1.0 } -> New y-label range: { -1.0, 1.0 }\n",
      "Perform normalization:feat-11\n",
      "\u001b[92mSuccess: File saved at [./clean/binary]!\u001b[0m\n",
      "-*-*-*-*-*-*-*-*-*-*-*-*-*-*-*-*-*-*-*-*-*-*-*-*-*-*-*-*-*-*\n"
     ]
    },
    {
     "name": "stderr",
     "output_type": "stream",
     "text": [
      "100% (87065 of 87065) |##################| Elapsed Time: 0:00:00 Time:  0:00:00\n"
     ]
    },
    {
     "name": "stdout",
     "output_type": "stream",
     "text": [
      "\u001b[92mdataset [breast-cancer] is downloaded at [./raw/binary].\u001b[0m\n",
      "Original y-label range: { 2.0, 4.0 } -> New y-label range: { -1.0, 1.0 }\n",
      "Perform normalization:feat-11\n",
      "\u001b[92mSuccess: File saved at [./clean/binary]!\u001b[0m\n",
      "-*-*-*-*-*-*-*-*-*-*-*-*-*-*-*-*-*-*-*-*-*-*-*-*-*-*-*-*-*-*\n"
     ]
    },
    {
     "name": "stderr",
     "output_type": "stream",
     "text": [
      "100% (4667176 of 4667176) |##############| Elapsed Time: 0:00:08 Time:  0:00:08\n"
     ]
    },
    {
     "name": "stdout",
     "output_type": "stream",
     "text": [
      "\u001b[92mdataset [cod-rna] is downloaded at [./raw/binary].\u001b[0m\n",
      "Original y-label range: { -1.0, 1.0 } -> New y-label range: { -1.0, 1.0 }\n",
      "Perform normalization:feat-11\n",
      "\u001b[92mSuccess: File saved at [./clean/binary]!\u001b[0m\n",
      "-*-*-*-*-*-*-*-*-*-*-*-*-*-*-*-*-*-*-*-*-*-*-*-*-*-*-*-*-*-*\n"
     ]
    },
    {
     "name": "stderr",
     "output_type": "stream",
     "text": [
      "100% (609480 of 609480) |################| Elapsed Time: 0:00:01 Time:  0:00:01\n"
     ]
    },
    {
     "name": "stdout",
     "output_type": "stream",
     "text": [
      "\u001b[92mdataset [colon-cancer.bz2] is downloaded at [./raw/binary].\u001b[0m\n",
      "Original y-label range: { -1.0, 1.0 } -> New y-label range: { -1.0, 1.0 }\n",
      "Perform normalization:feat-11\n",
      "\u001b[92mSuccess: File saved at [./clean/binary]!\u001b[0m\n",
      "-*-*-*-*-*-*-*-*-*-*-*-*-*-*-*-*-*-*-*-*-*-*-*-*-*-*-*-*-*-*\n"
     ]
    },
    {
     "name": "stderr",
     "output_type": "stream",
     "text": [
      "100% (75503 of 75503) |##################| Elapsed Time: 0:00:00 Time:  0:00:00\n"
     ]
    },
    {
     "name": "stdout",
     "output_type": "stream",
     "text": [
      "\u001b[92mdataset [diabetes] is downloaded at [./raw/binary].\u001b[0m\n",
      "Original y-label range: { -1.0, 1.0 } -> New y-label range: { -1.0, 1.0 }\n",
      "Perform normalization:feat-11\n",
      "\u001b[92mSuccess: File saved at [./clean/binary]!\u001b[0m\n",
      "-*-*-*-*-*-*-*-*-*-*-*-*-*-*-*-*-*-*-*-*-*-*-*-*-*-*-*-*-*-*\n"
     ]
    },
    {
     "name": "stderr",
     "output_type": "stream",
     "text": [
      "100% (1639022 of 1639022) |##############| Elapsed Time: 0:00:04 Time:  0:00:04\n"
     ]
    },
    {
     "name": "stdout",
     "output_type": "stream",
     "text": [
      "\u001b[92mdataset [duke.bz2] is downloaded at [./raw/binary].\u001b[0m\n",
      "Original y-label range: { -1.0, 1.0 } -> New y-label range: { -1.0, 1.0 }\n",
      "Perform normalization:feat-11\n",
      "\u001b[92mSuccess: File saved at [./clean/binary]!\u001b[0m\n",
      "-*-*-*-*-*-*-*-*-*-*-*-*-*-*-*-*-*-*-*-*-*-*-*-*-*-*-*-*-*-*\n"
     ]
    },
    {
     "name": "stderr",
     "output_type": "stream",
     "text": [
      "100% (25006 of 25006) |##################| Elapsed Time: 0:00:00 Time:  0:00:00\n"
     ]
    },
    {
     "name": "stdout",
     "output_type": "stream",
     "text": [
      "\u001b[92mdataset [fourclass] is downloaded at [./raw/binary].\u001b[0m\n",
      "Original y-label range: { -1.0, 1.0 } -> New y-label range: { -1.0, 1.0 }\n",
      "Perform normalization:feat-11\n",
      "\u001b[92mSuccess: File saved at [./clean/binary]!\u001b[0m\n",
      "-*-*-*-*-*-*-*-*-*-*-*-*-*-*-*-*-*-*-*-*-*-*-*-*-*-*-*-*-*-*\n"
     ]
    },
    {
     "name": "stderr",
     "output_type": "stream",
     "text": [
      "100% (285793 of 285793) |################| Elapsed Time: 0:00:02 Time:  0:00:02\n"
     ]
    },
    {
     "name": "stdout",
     "output_type": "stream",
     "text": [
      "\u001b[92mdataset [german.numer] is downloaded at [./raw/binary].\u001b[0m\n",
      "Original y-label range: { -1.0, 1.0 } -> New y-label range: { -1.0, 1.0 }\n",
      "Perform normalization:feat-11\n",
      "\u001b[92mSuccess: File saved at [./clean/binary]!\u001b[0m\n",
      "-*-*-*-*-*-*-*-*-*-*-*-*-*-*-*-*-*-*-*-*-*-*-*-*-*-*-*-*-*-*\n"
     ]
    },
    {
     "name": "stderr",
     "output_type": "stream",
     "text": [
      "100% (42651 of 42651) |##################| Elapsed Time: 0:00:00 Time:  0:00:00\n"
     ]
    },
    {
     "name": "stdout",
     "output_type": "stream",
     "text": [
      "\u001b[92mdataset [heart] is downloaded at [./raw/binary].\u001b[0m\n",
      "Original y-label range: { -1.0, 1.0 } -> New y-label range: { -1.0, 1.0 }\n",
      "Perform normalization:feat-11\n",
      "\u001b[92mSuccess: File saved at [./clean/binary]!\u001b[0m\n",
      "-*-*-*-*-*-*-*-*-*-*-*-*-*-*-*-*-*-*-*-*-*-*-*-*-*-*-*-*-*-*\n"
     ]
    },
    {
     "name": "stderr",
     "output_type": "stream",
     "text": [
      "100% (1398220 of 1398220) |##############| Elapsed Time: 0:00:08 Time:  0:00:08\n"
     ]
    },
    {
     "name": "stdout",
     "output_type": "stream",
     "text": [
      "\u001b[92mdataset [ijcnn1.bz2] is downloaded at [./raw/binary].\u001b[0m\n",
      "Original y-label range: { -1.0, 1.0 } -> New y-label range: { -1.0, 1.0 }\n",
      "Perform normalization:feat-11\n",
      "\u001b[92mSuccess: File saved at [./clean/binary]!\u001b[0m\n",
      "-*-*-*-*-*-*-*-*-*-*-*-*-*-*-*-*-*-*-*-*-*-*-*-*-*-*-*-*-*-*\n"
     ]
    },
    {
     "name": "stderr",
     "output_type": "stream",
     "text": [
      "100% (102170 of 102170) |################| Elapsed Time: 0:00:00 Time:  0:00:00\n"
     ]
    },
    {
     "name": "stdout",
     "output_type": "stream",
     "text": [
      "\u001b[92mdataset [ionosphere_scale] is downloaded at [./raw/binary].\u001b[0m\n",
      "Original y-label range: { -1.0, 1.0 } -> New y-label range: { -1.0, 1.0 }\n",
      "Perform normalization:feat-11\n",
      "\u001b[92mSuccess: File saved at [./clean/binary]!\u001b[0m\n",
      "-*-*-*-*-*-*-*-*-*-*-*-*-*-*-*-*-*-*-*-*-*-*-*-*-*-*-*-*-*-*\n"
     ]
    },
    {
     "name": "stderr",
     "output_type": "stream",
     "text": [
      "100% (1423727 of 1423727) |##############| Elapsed Time: 0:00:04 Time:  0:00:04\n"
     ]
    },
    {
     "name": "stdout",
     "output_type": "stream",
     "text": [
      "\u001b[92mdataset [leu.bz2] is downloaded at [./raw/binary].\u001b[0m\n",
      "Original y-label range: { -1.0, 1.0 } -> New y-label range: { -1.0, 1.0 }\n",
      "Perform normalization:feat-11\n",
      "\u001b[92mSuccess: File saved at [./clean/binary]!\u001b[0m\n",
      "-*-*-*-*-*-*-*-*-*-*-*-*-*-*-*-*-*-*-*-*-*-*-*-*-*-*-*-*-*-*\n"
     ]
    },
    {
     "name": "stderr",
     "output_type": "stream",
     "text": [
      "100% (9140 of 9140) |####################| Elapsed Time: 0:00:00 Time:  0:00:00\n"
     ]
    },
    {
     "name": "stdout",
     "output_type": "stream",
     "text": [
      "\u001b[92mdataset [liver-disorders] is downloaded at [./raw/binary].\u001b[0m\n",
      "Original y-label range: { 0.0, 1.0 } -> New y-label range: { -1.0, 1.0 }\n",
      "Perform normalization:feat-11\n",
      "\u001b[92mSuccess: File saved at [./clean/binary]!\u001b[0m\n",
      "-*-*-*-*-*-*-*-*-*-*-*-*-*-*-*-*-*-*-*-*-*-*-*-*-*-*-*-*-*-*\n"
     ]
    },
    {
     "name": "stderr",
     "output_type": "stream",
     "text": [
      "100% (879712 of 879712) |################| Elapsed Time: 0:00:02 Time:  0:00:02\n"
     ]
    },
    {
     "name": "stdout",
     "output_type": "stream",
     "text": [
      "\u001b[92mdataset [mushrooms] is downloaded at [./raw/binary].\u001b[0m\n",
      "Original y-label range: { 1.0, 2.0 } -> New y-label range: { -1.0, 1.0 }\n",
      "Perform normalization:feat-11\n",
      "\u001b[92mSuccess: File saved at [./clean/binary]!\u001b[0m\n",
      "-*-*-*-*-*-*-*-*-*-*-*-*-*-*-*-*-*-*-*-*-*-*-*-*-*-*-*-*-*-*\n"
     ]
    },
    {
     "name": "stderr",
     "output_type": "stream",
     "text": [
      "100% (3620168 of 3620168) |##############| Elapsed Time: 0:00:07 Time:  0:00:07\n"
     ]
    },
    {
     "name": "stdout",
     "output_type": "stream",
     "text": [
      "\u001b[92mdataset [phishing] is downloaded at [./raw/binary].\u001b[0m\n",
      "Original y-label range: { 0.0, 1.0 } -> New y-label range: { -1.0, 1.0 }\n",
      "Perform normalization:feat-11\n",
      "\u001b[92mSuccess: File saved at [./clean/binary]!\u001b[0m\n",
      "-*-*-*-*-*-*-*-*-*-*-*-*-*-*-*-*-*-*-*-*-*-*-*-*-*-*-*-*-*-*\n"
     ]
    },
    {
     "name": "stderr",
     "output_type": "stream",
     "text": [
      "100% (4626103 of 4626103) |##############| Elapsed Time: 0:00:08 Time:  0:00:08\n"
     ]
    },
    {
     "name": "stdout",
     "output_type": "stream",
     "text": [
      "\u001b[92mdataset [skin_nonskin] is downloaded at [./raw/binary].\u001b[0m\n",
      "Original y-label range: { 1.0, 2.0 } -> New y-label range: { -1.0, 1.0 }\n",
      "Perform normalization:feat-11\n",
      "\u001b[92mSuccess: File saved at [./clean/binary]!\u001b[0m\n",
      "-*-*-*-*-*-*-*-*-*-*-*-*-*-*-*-*-*-*-*-*-*-*-*-*-*-*-*-*-*-*\n"
     ]
    },
    {
     "name": "stderr",
     "output_type": "stream",
     "text": [
      "100% (715000 of 715000) |################| Elapsed Time: 0:00:03 Time:  0:00:03\n"
     ]
    },
    {
     "name": "stdout",
     "output_type": "stream",
     "text": [
      "\u001b[92mdataset [splice] is downloaded at [./raw/binary].\u001b[0m\n",
      "Original y-label range: { -1.0, 1.0 } -> New y-label range: { -1.0, 1.0 }\n",
      "Perform normalization:feat-11\n",
      "\u001b[92mSuccess: File saved at [./clean/binary]!\u001b[0m\n",
      "-*-*-*-*-*-*-*-*-*-*-*-*-*-*-*-*-*-*-*-*-*-*-*-*-*-*-*-*-*-*\n"
     ]
    },
    {
     "name": "stderr",
     "output_type": "stream",
     "text": [
      "100% (156001 of 156001) |################| Elapsed Time: 0:00:00 Time:  0:00:00\n"
     ]
    },
    {
     "name": "stdout",
     "output_type": "stream",
     "text": [
      "\u001b[92mdataset [sonar_scale] is downloaded at [./raw/binary].\u001b[0m\n",
      "Original y-label range: { -1.0, 1.0 } -> New y-label range: { -1.0, 1.0 }\n",
      "Perform normalization:feat-11\n",
      "\u001b[92mSuccess: File saved at [./clean/binary]!\u001b[0m\n",
      "-*-*-*-*-*-*-*-*-*-*-*-*-*-*-*-*-*-*-*-*-*-*-*-*-*-*-*-*-*-*\n"
     ]
    },
    {
     "name": "stderr",
     "output_type": "stream",
     "text": [
      "100% (305582 of 305582) |################| Elapsed Time: 0:00:02 Time:  0:00:02\n"
     ]
    },
    {
     "name": "stdout",
     "output_type": "stream",
     "text": [
      "\u001b[92mdataset [svmguide3] is downloaded at [./raw/binary].\u001b[0m\n",
      "Original y-label range: { -1.0, 1.0 } -> New y-label range: { -1.0, 1.0 }\n",
      "Perform normalization:feat-11\n",
      "\u001b[92mSuccess: File saved at [./clean/binary]!\u001b[0m\n",
      "-*-*-*-*-*-*-*-*-*-*-*-*-*-*-*-*-*-*-*-*-*-*-*-*-*-*-*-*-*-*\n"
     ]
    },
    {
     "name": "stderr",
     "output_type": "stream",
     "text": [
      "100% (3478238 of 3478238) |##############| Elapsed Time: 0:00:07 Time:  0:00:07\n"
     ]
    },
    {
     "name": "stdout",
     "output_type": "stream",
     "text": [
      "\u001b[92mdataset [w8a] is downloaded at [./raw/binary].\u001b[0m\n",
      "Original y-label range: { -1.0, 1.0 } -> New y-label range: { -1.0, 1.0 }\n",
      "Perform normalization:feat-11\n",
      "\u001b[92mSuccess: File saved at [./clean/binary]!\u001b[0m\n",
      "-*-*-*-*-*-*-*-*-*-*-*-*-*-*-*-*-*-*-*-*-*-*-*-*-*-*-*-*-*-*\n",
      "Summary:\n",
      "\u001b[92mPlan to download: [21] datasets| Successfully download: [21] datasets | Successfully clean: [21] datasets.\u001b[0m\n"
     ]
    }
   ],
   "source": [
    "file_path = './libsvm_binary_small.txt'\n",
    "libclass.getAndCleanFromFile(file_path,\n",
    "                             task='binary', \n",
    "                             binary_lable='{-1,1}', \n",
    "                             normalization='feat-11',\n",
    "                             force_download=False, \n",
    "                             force_clean=False, \n",
    "                             clean_verbose=False)"
   ]
  },
  {
   "cell_type": "code",
   "execution_count": 5,
   "id": "sticky-works",
   "metadata": {
    "execution": {
     "iopub.execute_input": "2021-07-30T20:32:30.747545Z",
     "iopub.status.busy": "2021-07-30T20:32:30.747289Z",
     "iopub.status.idle": "2021-07-30T20:32:30.751876Z",
     "shell.execute_reply": "2021-07-30T20:32:30.750382Z",
     "shell.execute_reply.started": "2021-07-30T20:32:30.747515Z"
    }
   },
   "outputs": [],
   "source": [
    "# libclass.getAndClean(download_url=\"https://www.csie.ntu.edu.tw/~cjlin/libsvmtools/datasets/binary/duke\")"
   ]
  },
  {
   "cell_type": "code",
   "execution_count": null,
   "id": "located-india",
   "metadata": {},
   "outputs": [],
   "source": []
  }
 ],
 "metadata": {
  "kernelspec": {
   "display_name": "Python 3",
   "language": "python",
   "name": "python3"
  },
  "language_info": {
   "codemirror_mode": {
    "name": "ipython",
    "version": 3
   },
   "file_extension": ".py",
   "mimetype": "text/x-python",
   "name": "python",
   "nbconvert_exporter": "python",
   "pygments_lexer": "ipython3",
   "version": "3.7.6"
  }
 },
 "nbformat": 4,
 "nbformat_minor": 5
}
